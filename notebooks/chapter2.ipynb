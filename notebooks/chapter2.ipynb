{
 "cells": [
  {
   "cell_type": "markdown",
   "metadata": {},
   "source": [
    "Chapter 2: Functions\n",
    "==="
   ]
  },
  {
   "cell_type": "code",
   "execution_count": 58,
   "metadata": {
    "collapsed": false
   },
   "outputs": [
    {
     "data": {
      "text/plain": [
       "[{'location': 'San Diego, CA)', 'name': 'Alesmith Old Ale '},\n",
       " {'location': 'Alpine, CA)', 'name': 'Alpine Captain Stout '},\n",
       " {'location': 'Boulder, CO)', 'name': 'Avery White Rascal '},\n",
       " {'location': 'Frisco, CO)', 'name': 'Backcountry Brewery Berliner Weisse '},\n",
       " {'location': 'San Diego, CA)', 'name': 'Ballast Point Sculpin '},\n",
       " {'location': 'San Diego, CA)', 'name': 'Ballast Point Sea Monster '},\n",
       " {'location': 'San Diego, CA)', 'name': 'Ballast Point Victory At Sea '},\n",
       " {'location': 'Roncole Verdi, Italy)',\n",
       "  'name': 'Birrificio del Ducato  Beersel Mattina '},\n",
       " {'location': 'Roncole Verdi, Italy)',\n",
       "  'name': 'Birrificio del Ducato  Nuova Mattina '},\n",
       " {'location': 'Lurago Marinone (CO))',\n",
       "  'name': 'Birrificio Italiano V\\xc3\\x83\\xc2\\xb9d\\xc3\\x83\\xc2\\xb9 '}]"
      ]
     },
     "execution_count": 58,
     "metadata": {},
     "output_type": "execute_result"
    }
   ],
   "source": [
    "import re\n",
    "\n",
    "def parse_beer(beer):\n",
    "    m = re.match('(.*?)\\((.*\\))', beer)\n",
    "    if m:\n",
    "        return dict(zip(['name', 'location'], m.groups()))\n",
    "    else:\n",
    "        raise ValueError('Could not parse beer description: {}'.format(beer))\n",
    "\n",
    "def read_beers():\n",
    "    beers = []\n",
    "    with open('beers.txt', 'r') as f:\n",
    "        for line in f:\n",
    "            beers.append(parse_beer(line))\n",
    "        return beers\n",
    "\n",
    "beers = read_beers()\n",
    "beers[:10]"
   ]
  },
  {
   "cell_type": "markdown",
   "metadata": {},
   "source": [
    "Item 14: Prefer exceptions to returning `None`\n",
    "===\n",
    "    Avoid giving special meaning to `None` as return value. Raise exceptions on unexpected behavior to delegate handling."
   ]
  },
  {
   "cell_type": "code",
   "execution_count": 59,
   "metadata": {
    "collapsed": true
   },
   "outputs": [],
   "source": [
    "# No\n",
    "def parse_beer(beer):\n",
    "    m = re.match('(.*)\\((.*\\))', beer)\n",
    "    if m:\n",
    "        return dict(zip(['name', 'location'], m.groups()))\n",
    "    else:\n",
    "        # Couldn't parse, oh well\n",
    "        return None\n",
    "\n",
    "# Better\n",
    "def parse_beer(beer):\n",
    "    m = re.match('(.*)\\((.*\\))', beer)\n",
    "    if m:\n",
    "        return dict(zip(['name', 'location'], m.groups()))\n",
    "    else:\n",
    "        raise ValueError('Could not parse beer description: {}'.format(beer))"
   ]
  },
  {
   "cell_type": "markdown",
   "metadata": {},
   "source": [
    "Item 15: Know how closures interact with variable scope\n",
    "==="
   ]
  },
  {
   "cell_type": "code",
   "execution_count": 60,
   "metadata": {
    "collapsed": false
   },
   "outputs": [
    {
     "ename": "UnboundLocalError",
     "evalue": "local variable 'previous' referenced before assignment",
     "output_type": "error",
     "traceback": [
      "\u001b[1;31m---------------------------------------------------------------------------\u001b[0m",
      "\u001b[1;31mUnboundLocalError\u001b[0m                         Traceback (most recent call last)",
      "\u001b[1;32m<ipython-input-60-5ffa61888f40>\u001b[0m in \u001b[0;36m<module>\u001b[1;34m()\u001b[0m\n\u001b[0;32m      7\u001b[0m \u001b[1;33m\u001b[0m\u001b[0m\n\u001b[0;32m      8\u001b[0m \u001b[0mf\u001b[0m \u001b[1;33m=\u001b[0m \u001b[0mmatches_previous\u001b[0m\u001b[1;33m(\u001b[0m\u001b[1;33m)\u001b[0m\u001b[1;33m\u001b[0m\u001b[0m\n\u001b[1;32m----> 9\u001b[1;33m \u001b[1;32mprint\u001b[0m\u001b[1;33m(\u001b[0m\u001b[0mf\u001b[0m\u001b[1;33m(\u001b[0m\u001b[1;34m'a'\u001b[0m\u001b[1;33m)\u001b[0m\u001b[1;33m)\u001b[0m\u001b[1;33m\u001b[0m\u001b[0m\n\u001b[0m\u001b[0;32m     10\u001b[0m \u001b[1;32mprint\u001b[0m\u001b[1;33m(\u001b[0m\u001b[0mf\u001b[0m\u001b[1;33m(\u001b[0m\u001b[1;34m'a'\u001b[0m\u001b[1;33m)\u001b[0m\u001b[1;33m)\u001b[0m\u001b[1;33m\u001b[0m\u001b[0m\n",
      "\u001b[1;32m<ipython-input-60-5ffa61888f40>\u001b[0m in \u001b[0;36mf\u001b[1;34m(x)\u001b[0m\n\u001b[0;32m      1\u001b[0m \u001b[1;32mdef\u001b[0m \u001b[0mmatches_previous\u001b[0m\u001b[1;33m(\u001b[0m\u001b[0mprevious\u001b[0m\u001b[1;33m=\u001b[0m\u001b[0mNone\u001b[0m\u001b[1;33m)\u001b[0m\u001b[1;33m:\u001b[0m\u001b[1;33m\u001b[0m\u001b[0m\n\u001b[0;32m      2\u001b[0m     \u001b[1;32mdef\u001b[0m \u001b[0mf\u001b[0m\u001b[1;33m(\u001b[0m\u001b[0mx\u001b[0m\u001b[1;33m)\u001b[0m\u001b[1;33m:\u001b[0m\u001b[1;33m\u001b[0m\u001b[0m\n\u001b[1;32m----> 3\u001b[1;33m         \u001b[0mresult\u001b[0m \u001b[1;33m=\u001b[0m \u001b[1;33m(\u001b[0m\u001b[0mx\u001b[0m \u001b[1;33m==\u001b[0m \u001b[0mprevious\u001b[0m\u001b[1;33m)\u001b[0m\u001b[1;33m\u001b[0m\u001b[0m\n\u001b[0m\u001b[0;32m      4\u001b[0m         \u001b[0mprevious\u001b[0m \u001b[1;33m=\u001b[0m \u001b[0mx\u001b[0m\u001b[1;33m\u001b[0m\u001b[0m\n\u001b[0;32m      5\u001b[0m         \u001b[1;32mreturn\u001b[0m \u001b[0mresult\u001b[0m\u001b[1;33m\u001b[0m\u001b[0m\n",
      "\u001b[1;31mUnboundLocalError\u001b[0m: local variable 'previous' referenced before assignment"
     ]
    }
   ],
   "source": [
    "def matches_previous(previous=None):\n",
    "    def f(x):\n",
    "        result = (x == previous)\n",
    "        previous = x\n",
    "        return result\n",
    "    return f\n",
    "\n",
    "f = matches_previous()\n",
    "print(f('a'))\n",
    "print(f('a'))"
   ]
  },
  {
   "cell_type": "code",
   "execution_count": null,
   "metadata": {
    "collapsed": false
   },
   "outputs": [],
   "source": [
    "def matches_previous(previous=None):\n",
    "    previous = [previous]\n",
    "    def f(x):\n",
    "        result = (x == previous[0])\n",
    "        previous[0] = x\n",
    "        return result\n",
    "    return f\n",
    "\n",
    "f = matches_previous()\n",
    "print(f('a'))\n",
    "print(f('a'))"
   ]
  },
  {
   "cell_type": "markdown",
   "metadata": {},
   "source": [
    "Item 16: Consider generators instead of returning lists\n",
    "===\n",
    "Good for concision, memory efficiency, lazy evaluation."
   ]
  },
  {
   "cell_type": "code",
   "execution_count": null,
   "metadata": {
    "collapsed": true
   },
   "outputs": [],
   "source": [
    "def read_beers():\n",
    "    with open('beers.txt', 'r') as f:\n",
    "        for line in f:\n",
    "            yield parse_beer(line)"
   ]
  },
  {
   "cell_type": "markdown",
   "metadata": {},
   "source": [
    "Item 17: Be defensive iterating over arguments\n",
    "===\n",
    "Takeaway: avoid passing iterators around -- they iterate once only. Instead pass containers (have __iter__ method)"
   ]
  },
  {
   "cell_type": "code",
   "execution_count": null,
   "metadata": {
    "collapsed": false
   },
   "outputs": [],
   "source": [
    "def hippest_beer(beers):\n",
    "    chars = [len(beer['name']) for beer in beers]\n",
    "    is_local = ['CO' in beer['location'] for beer in beers]\n",
    "    hip_score = [c * int(l) for c, l in zip(chars, is_local)]\n",
    "    print hip_score\n",
    "    return beers[hip_score.index(max(hip_score))]\n",
    "\n",
    "hippest_beer(read_beers())\n"
   ]
  },
  {
   "cell_type": "code",
   "execution_count": null,
   "metadata": {
    "collapsed": false
   },
   "outputs": [],
   "source": [
    "def hippest_beer(beers):\n",
    "    if iter(beers) is iter(beers):\n",
    "        raise TypeError('Iterator passed as argument (Should be container instead)')\n",
    "    chars = [len(beer['name']) for beer in beers]\n",
    "    is_local = ['CO' in beer['location'] for beer in beers]\n",
    "    hip_score = [c * int(l) for c, l in zip(chars, is_local)]\n",
    "    return beers[hip_score.index(max(hip_score))]\n",
    "\n",
    "hippest_beer(read_beers())\n"
   ]
  },
  {
   "cell_type": "code",
   "execution_count": null,
   "metadata": {
    "collapsed": false
   },
   "outputs": [],
   "source": [
    "beer_choice = hippest_beer(list(read_beers()))\n",
    "beer_choice"
   ]
  },
  {
   "cell_type": "markdown",
   "metadata": {},
   "source": [
    "Item 18: Reduce visual noise with variable positional arguments\n",
    "===\n"
   ]
  },
  {
   "cell_type": "code",
   "execution_count": null,
   "metadata": {
    "collapsed": false
   },
   "outputs": [],
   "source": [
    "def order(*args):\n",
    "    print('Hi!')\n",
    "    if args:\n",
    "        print('I\\'ll have ' + 'and '.join(args) + ', please and thank you.')\n",
    "    else:\n",
    "        print('Nothing for me')\n",
    "\n",
    "order(beer_choice['name'], 'those mac and cheese things')"
   ]
  },
  {
   "cell_type": "markdown",
   "metadata": {},
   "source": [
    "Item 19: Provide optional behavior with keyword arguments\n",
    "===\n",
    "Keyword args:\n",
    "* facilitate self-documenting code\n",
    "* can have defaults\n",
    "* can extend function with optional/alternate behavior\n",
    "\n",
    "Passing keyword arguments by position generally a no-no"
   ]
  },
  {
   "cell_type": "code",
   "execution_count": null,
   "metadata": {
    "collapsed": true
   },
   "outputs": [],
   "source": [
    "def my_func(req_arg1, req_arg2, opt_arg1=default1, opt_arg2=default2):\n",
    "    pass"
   ]
  },
  {
   "cell_type": "markdown",
   "metadata": {},
   "source": [
    "Item 20: Use `None` and docstrings for dynamic default arguments\n",
    "===\n",
    "* Mutables are passed by reference and \n",
    "* expressions evaluated when definition parsed\n"
   ]
  },
  {
   "cell_type": "code",
   "execution_count": null,
   "metadata": {
    "collapsed": false
   },
   "outputs": [],
   "source": [
    "def f(x, y=[]):\n",
    "    y.append(x)\n",
    "    return y\n",
    "    \n",
    "print(f(0))\n",
    "print(f(1, ['a']))\n",
    "print(f(2))"
   ]
  },
  {
   "cell_type": "code",
   "execution_count": null,
   "metadata": {
    "collapsed": false
   },
   "outputs": [],
   "source": [
    "def f(x, y=None):\n",
    "    '''\n",
    "    Append x to a list\n",
    "    \n",
    "    Arguments:\n",
    "        x: item to append\n",
    "        y: list to append x to\n",
    "            if None, will append to empty list\n",
    "    '''\n",
    "    if y is None:\n",
    "        y = []\n",
    "    y.append(x)\n",
    "    return y\n",
    "    \n",
    "print(f(0))\n",
    "print(f(1, ['a']))\n",
    "print(f(2))"
   ]
  },
  {
   "cell_type": "markdown",
   "metadata": {},
   "source": [
    "Item 21: Enforce clarity with keyword-only arguments\n",
    "===\n",
    "Because human nature is sinful, and must be forcibly tamed."
   ]
  },
  {
   "cell_type": "code",
   "execution_count": null,
   "metadata": {
    "collapsed": true
   },
   "outputs": [],
   "source": [
    "# python 2\n",
    "def my_func(req_arg1, req_arg2, **kwargs):\n",
    "    opt_arg1 = kwargs.pop('opt_arg1', True)\n",
    "    opt_arg2 = kwargs.pop('opt_arg2', False)\n",
    "    # ...\n",
    "\n",
    "my_func('a', 2, False, True)"
   ]
  },
  {
   "cell_type": "code",
   "execution_count": null,
   "metadata": {
    "collapsed": true
   },
   "outputs": [],
   "source": [
    "my_func('a', 2, opt_arg1=False, opt_arg2=True)"
   ]
  },
  {
   "cell_type": "code",
   "execution_count": null,
   "metadata": {
    "collapsed": true
   },
   "outputs": [],
   "source": [
    "# python 3\n",
    "def my_func(req_arg1, req_arg2, *, flag1=default1, opt_arg2=default2):\n",
    "    pass"
   ]
  }
 ],
 "metadata": {
  "kernelspec": {
   "display_name": "Python 2",
   "language": "python",
   "name": "python2"
  },
  "language_info": {
   "codemirror_mode": {
    "name": "ipython",
    "version": 2
   },
   "file_extension": ".py",
   "mimetype": "text/x-python",
   "name": "python",
   "nbconvert_exporter": "python",
   "pygments_lexer": "ipython2",
   "version": "2.7.10"
  }
 },
 "nbformat": 4,
 "nbformat_minor": 0
}
