{
 "cells": [
  {
   "cell_type": "markdown",
   "metadata": {
    "collapsed": true,
    "tags": [
     "worksheet-0"
    ]
   },
   "source": [
    "Item 1: Know Which Version of Python You're Using\n",
    "==="
   ]
  },
  {
   "cell_type": "code",
   "execution_count": 9,
   "metadata": {
    "collapsed": false,
    "tags": [
     "worksheet-0"
    ]
   },
   "outputs": [
    {
     "name": "stdout",
     "output_type": "stream",
     "text": [
      "Version:\n",
      "2.7.10 |Continuum Analytics, Inc.| (default, May 28 2015, 17:04:42) \n",
      "[GCC 4.2.1 (Apple Inc. build 5577)]\n",
      "Version info:\n",
      "sys.version_info(major=2, minor=7, micro=10, releaselevel='final', serial=0)\n"
     ]
    }
   ],
   "source": [
    "import sys\n",
    "print \"Version:\"\n",
    "print sys.version\n",
    "print \"Version info:\"\n",
    "print sys.version_info"
   ]
  },
  {
   "cell_type": "markdown",
   "metadata": {
    "collapsed": true,
    "tags": [
     "worksheet-0"
    ]
   },
   "source": [
    "Item 2: Follow the PEP 8 Style Guide\n",
    "===\n",
    "\n",
    "* [The PEP 8 Style Guide](http://pep8.readthedocs.org/en/latest/)\n",
    "* Tool: [flake8](http://flake8.readthedocs.org/en/latest/)\n",
    "* Add .flake8rc for local project modifications\n",
    "* Typically: line length of 90, 100, or 120\n",
    "* Setup your editor to flag PEP 8 errors\n",
    "* Setup your build to fail builds if you have PEP 8 errors\n",
    "* Fix style errors in a separate commit if there are more than a handful."
   ]
  },
  {
   "cell_type": "markdown",
   "metadata": {
    "collapsed": true,
    "tags": [
     "worksheet-0"
    ]
   },
   "source": [
    "Item 3: Know the Differences Between bytes, str, and unicode\n",
    "===\n",
    "\n",
    "Joel on Software: (What Every Programmer Should Know About Unicode)[]\n",
    "Python 2:\n",
    "    * str: raw 8-bit values\n",
    "    * unicode: Unicode characters\n",
    "\n",
    "Python 3:\n",
    "    * bytes: raw 8-bit values\n",
    "    * unicode: Unicode characters\n",
    "\n",
    "Python 2 helper functions:\n",
    "    * to_unicode: (str | unicode) -> unicode\n",
    "    * to_str: (str | unicode) -> str\n",
    "\n",
    "In Python 2, str and unicode instances are often compatible (if the str contains 7-bit ASCII).\n",
    "In Python 2, file r/w operations default to binary.\n",
    "\n",
    "In summary: Python 2 is much better. :)\n",
    "\n",
    "The core of your program should use Unicode, convert to/from unicode at the edges of the program / system."
   ]
  },
  {
   "cell_type": "code",
   "execution_count": 10,
   "metadata": {
    "collapsed": false,
    "tags": [
     "worksheet-0"
    ]
   },
   "outputs": [
    {
     "name": "stdout",
     "output_type": "stream",
     "text": [
      "FooFoo\n",
      "True\n",
      "The string: Foo\n",
      "The unicode: Foo\n"
     ]
    }
   ],
   "source": [
    "s = str('Foo')\n",
    "u = unicode('Foo')\n",
    "\n",
    "print s + u\n",
    "print s == u\n",
    "print \"The string: %s\" % s\n",
    "print \"The unicode: %s\" % u"
   ]
  },
  {
   "cell_type": "markdown",
   "metadata": {
    "collapsed": true,
    "tags": [
     "worksheet-0"
    ]
   },
   "source": [
    "Item 4: Write Helper Functions Instead of Complex Expressions\n",
    "===\n",
    "\n",
    "\"Python's syntax makes it all too easy to write single-line that are overly complicated and difficult to read.\" :O"
   ]
  },
  {
   "cell_type": "code",
   "execution_count": 14,
   "metadata": {
    "collapsed": false,
    "tags": [
     "worksheet-0"
    ]
   },
   "outputs": [],
   "source": [
    "def complex_nearby_monsters(player, room, monsters):\n",
    "    return [monster for monster in monsters if not player.in_combat() and not room.contains_monsters() and monster.level() <= player.level()]"
   ]
  },
  {
   "cell_type": "code",
   "execution_count": 15,
   "metadata": {
    "collapsed": false,
    "tags": [
     "worksheet-0"
    ]
   },
   "outputs": [],
   "source": [
    "def monster_can_appear(monster, player, room):\n",
    "    if monster.level() > player.level():\n",
    "        return False\n",
    "\n",
    "    if player.in_combat():\n",
    "        return False\n",
    "\n",
    "    if room.contains_monsters():\n",
    "        return False\n",
    "\n",
    "    return True\n",
    "\n",
    "def simpler_nearby_monsters(game):\n",
    "    return [monster for monster in monsters if monster_can_appear(monster, player, room)]"
   ]
  },
  {
   "cell_type": "markdown",
   "metadata": {
    "collapsed": true,
    "tags": [
     "worksheet-0"
    ]
   },
   "source": [
    "Item 5: Know How to Slice Sequences\n",
    "===\n",
    "\n",
    "* a[begin:end:stride]"
   ]
  },
  {
   "cell_type": "code",
   "execution_count": null,
   "metadata": {
    "collapsed": false,
    "tags": [
     "worksheet-0"
    ]
   },
   "outputs": [],
   "source": []
  },
  {
   "cell_type": "markdown",
   "metadata": {
    "collapsed": true,
    "tags": [
     "worksheet-0"
    ]
   },
   "source": [
    "Item 6: Avoid Using start, end, and stride in a Single Slice\n",
    "===\n",
    "\n",
    "* One or two, not three!"
   ]
  },
  {
   "cell_type": "code",
   "execution_count": 15,
   "metadata": {
    "collapsed": false,
    "tags": [
     "worksheet-0"
    ]
   },
   "outputs": [],
   "source": []
  },
  {
   "cell_type": "markdown",
   "metadata": {
    "collapsed": true,
    "tags": [
     "worksheet-0"
    ]
   },
   "source": [
    "Item 7: Use List Comprehensions Instead of map and filter\n",
    "===\n",
    "\n",
    "* [f(item) for item in list if condition(item)]\n",
    "            ^               ^\n",
    "            L_ map          L_ filter\n",
    "            "
   ]
  },
  {
   "cell_type": "code",
   "execution_count": 2,
   "metadata": {
    "collapsed": false,
    "tags": [
     "worksheet-0"
    ]
   },
   "outputs": [
    {
     "name": "stdout",
     "output_type": "stream",
     "text": [
      "['Mary', 'Joan', 'Matilda']\n"
     ]
    }
   ],
   "source": [
    "names = ['Bob', 'Mary', 'Joan', 'Fred', 'Ruth', 'Matilda']\n",
    "\n",
    "those_with_a = [name for name in names if 'a' in name]\n",
    "print those_with_a"
   ]
  },
  {
   "cell_type": "markdown",
   "metadata": {
    "collapsed": true,
    "tags": [
     "worksheet-0"
    ]
   },
   "source": [
    "Item 8: Avoid More Than Two Expressions in List Comprehensions\n",
    "===\n"
   ]
  },
  {
   "cell_type": "code",
   "execution_count": 15,
   "metadata": {
    "collapsed": false,
    "tags": [
     "worksheet-0"
    ]
   },
   "outputs": [],
   "source": []
  },
  {
   "cell_type": "markdown",
   "metadata": {
    "collapsed": true,
    "tags": [
     "worksheet-0"
    ]
   },
   "source": [
    "Item 9: Consider Generator Expressions for Large Comprehensions\n",
    "==="
   ]
  },
  {
   "cell_type": "code",
   "execution_count": 15,
   "metadata": {
    "collapsed": false,
    "tags": [
     "worksheet-0"
    ]
   },
   "outputs": [],
   "source": []
  },
  {
   "cell_type": "markdown",
   "metadata": {
    "collapsed": true,
    "tags": [
     "worksheet-0"
    ]
   },
   "source": [
    "Item 10: Prefer enumerate Over range\n",
    "==="
   ]
  },
  {
   "cell_type": "code",
   "execution_count": 14,
   "metadata": {
    "collapsed": false,
    "tags": [
     "worksheet-0"
    ]
   },
   "outputs": [
    {
     "name": "stdout",
     "output_type": "stream",
     "text": [
      "Top Players:\n",
      "------------\n",
      "1. Kyle 'Tetris Master' Purdon\n",
      "2. Hannah Wilcox\n",
      "3. Stuart Reed\n",
      "4. Kevin 'Atari 2600 Guru' Beam\n"
     ]
    }
   ],
   "source": [
    "ranked_players = [\"Kyle 'Tetris Master' Purdon\", \"Hannah Wilcox\", \"Stuart Reed\", \"Kevin 'Atari 2600 Guru' Beam\"]\n",
    "\n",
    "print \"Top Players:\"\n",
    "print \"------------\"\n",
    "for rank, name in enumerate(ranked_players, 1):\n",
    "    print str(rank) + \". \" + name"
   ]
  },
  {
   "cell_type": "markdown",
   "metadata": {
    "collapsed": true,
    "tags": [
     "worksheet-0"
    ]
   },
   "source": [
    "Item 11: Use zip to Process Iterators in Parallel\n",
    "===\n",
    "\n",
    "* Python 2: izip!"
   ]
  },
  {
   "cell_type": "code",
   "execution_count": 15,
   "metadata": {
    "collapsed": false,
    "tags": [
     "worksheet-0"
    ]
   },
   "outputs": [
    {
     "name": "stdout",
     "output_type": "stream",
     "text": [
      "Happy birthday Grover, you're 49\n",
      "Happy birthday Bert, you're 41\n",
      "Happy birthday Ernie, you're 37\n",
      "Happy birthday Big Bird, you're 45\n"
     ]
    }
   ],
   "source": [
    "import itertools\n",
    "    \n",
    "names = ['Grover', 'Bert', 'Ernie', 'Big Bird']\n",
    "ages = [49, 41, 37, 45]\n",
    "\n",
    "\n",
    "birthday_greetings = [\"Happy birthday {0}, you're {1}\".format(name, age) for name, age in itertools.izip(names, ages)]\n",
    "for greeting in birthday_greetings:\n",
    "    print greeting"
   ]
  },
  {
   "cell_type": "markdown",
   "metadata": {
    "collapsed": true,
    "tags": [
     "worksheet-0"
    ]
   },
   "source": [
    "Item 12: Avoid else Blocks after for and while Loops\n",
    "==="
   ]
  },
  {
   "cell_type": "code",
   "execution_count": 15,
   "metadata": {
    "collapsed": false,
    "tags": [
     "worksheet-0"
    ]
   },
   "outputs": [],
   "source": []
  },
  {
   "cell_type": "markdown",
   "metadata": {
    "collapsed": true,
    "tags": [
     "worksheet-0"
    ]
   },
   "source": [
    "Item 13: Take Advantage of Each Block in try/except/else/finally\n",
    "==="
   ]
  },
  {
   "cell_type": "code",
   "execution_count": null,
   "metadata": {
    "collapsed": false,
    "tags": [
     "worksheet-0"
    ]
   },
   "outputs": [],
   "source": []
  }
 ],
 "metadata": {},
 "nbformat": 4,
 "nbformat_minor": 0
}
