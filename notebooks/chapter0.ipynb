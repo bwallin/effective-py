{
 "cells": [
  {
   "cell_type": "markdown",
   "metadata": {
    "collapsed": true,
    "tags": [
     "worksheet-0"
    ]
   },
   "source": [
    "Getting Started\n",
    "===\n",
    "\n",
    "* Install [miniconda](http://conda.pydata.org/miniconda.html) (Python 2.7)\n",
    "* Setup your editor (emacs, of course)\n",
    "* Create a 'play' conda environment\n",
    "* Install [jedi](https://github.com/davidhalter/jedi) and (flake8)[http://flake8.readthedocs.org/en/latest/]\n",
    "* If you're using emacs, use the [elpy](http://elpy.readthedocs.org/en/latest/index.html) elisp package\n",
    "* Check out someone's emacs config for Python and see what they do"
   ]
  },
  {
   "cell_type": "markdown",
   "metadata": {
    "collapsed": true,
    "tags": [
     "worksheet-0"
    ]
   },
   "source": [
    "Learning Python\n",
    "===\n",
    "\n",
    "* [Python: The Essential Reference](http://www.amazon.com/Python-Essential-Reference-4th-Edition/dp/0672329786)\n",
    "* [Python Cookbook](http://www.amazon.com/Python-Cookbook-Alex-Martelli/dp/0596007973/ref=sr_1_2?s=books&ie=UTF8&qid=1433963974&sr=1-2&pebp=1433963977548&perid=03D88D4C041C4213886B)\n",
    "* [Python koans](https://github.com/gregmalcolm/python_koans)\n",
    "* [Learn Python the Hard Way](http://learnpythonthehardway.org/)"
   ]
  },
  {
   "cell_type": "code",
   "execution_count": null,
   "metadata": {
    "collapsed": false,
    "tags": [
     "worksheet-0"
    ]
   },
   "outputs": [],
   "source": []
  }
 ],
 "metadata": {
  "kernelspec": {
   "display_name": "Python 2",
   "language": "python",
   "name": "python2"
  },
  "language_info": {
   "codemirror_mode": {
    "name": "ipython",
    "version": 2
   },
   "file_extension": ".py",
   "mimetype": "text/x-python",
   "name": "python",
   "nbconvert_exporter": "python",
   "pygments_lexer": "ipython2",
   "version": "2.7.10"
  }
 },
 "nbformat": 4,
 "nbformat_minor": 0
}
